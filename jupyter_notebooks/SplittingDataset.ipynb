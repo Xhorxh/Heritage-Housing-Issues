{
 "cells": [
  {
   "source": [
    "# **Splitting Dataset**\n",
    "\n",
    "# Objectives\n",
    "* Before feature engineering, this notebook will divide the cleaned dataset for house prices into a train set and a test set.\n",
    "\n",
    "# Inputs\n",
    "* outputs/datasets/cleaned/house_prices_records.csv\n",
    "\n",
    "# Outputs\n",
    "* outputs/datasets/cleaned/split/house_prices_records_train.csv\n",
    "* outputs/datasets/cleaned/split/house_prices_records_test.csv\n",
    "---\n",
    "# Change working directory\n",
    "We need to change the working directory from its current folder to its parent folder\n",
    "\n",
    "* We access the current directory with os.getcwd()"
   ],
   "cell_type": "markdown",
   "metadata": {}
  },
  {
   "cell_type": "code",
   "execution_count": 1,
   "metadata": {},
   "outputs": [
    {
     "output_type": "execute_result",
     "data": {
      "text/plain": "'/workspaces/Heritage-Housing-Issues/jupyter_notebooks'"
     },
     "metadata": {},
     "execution_count": 1
    }
   ],
   "source": [
    "import os\n",
    "current_dir = os.getcwd()\n",
    "current_dir"
   ]
  },
  {
   "source": [
    "We want to make the parent of the current directory the new current directory\n",
    "\n",
    "* os.path.dirname() gets the parent directory\n",
    "* os.chir() defines the new current directory"
   ],
   "cell_type": "markdown",
   "metadata": {}
  },
  {
   "cell_type": "code",
   "execution_count": 2,
   "metadata": {
    "tags": []
   },
   "outputs": [
    {
     "output_type": "stream",
     "name": "stdout",
     "text": "You set a new current directory\n"
    }
   ],
   "source": [
    "os.chdir(os.path.dirname(current_dir))\n",
    "print(\"You set a new current directory\")"
   ]
  },
  {
   "source": [
    "Confirm the new current directory"
   ],
   "cell_type": "markdown",
   "metadata": {}
  },
  {
   "cell_type": "code",
   "execution_count": 3,
   "metadata": {},
   "outputs": [
    {
     "output_type": "execute_result",
     "data": {
      "text/plain": "'/workspaces/Heritage-Housing-Issues'"
     },
     "metadata": {},
     "execution_count": 3
    }
   ],
   "source": [
    "current_dir = os.getcwd()\n",
    "current_dir"
   ]
  },
  {
   "source": [
    "---"
   ],
   "cell_type": "markdown",
   "metadata": {}
  },
  {
   "source": [
    "# Splitting Data\n",
    "## Load cleaned dataset"
   ],
   "cell_type": "markdown",
   "metadata": {}
  },
  {
   "cell_type": "code",
   "execution_count": 4,
   "metadata": {},
   "outputs": [
    {
     "output_type": "execute_result",
     "data": {
      "text/plain": "   1stFlrSF  2ndFlrSF  BedroomAbvGr BsmtExposure  BsmtFinSF1 BsmtFinType1  \\\n0       856     854.0      3.000000           No         706          GLQ   \n1      1262       0.0      3.000000           Gd         978          ALQ   \n2       920     866.0      3.000000           Mn         486          GLQ   \n3       961       0.0      2.869214           No         216          ALQ   \n4      1145       0.0      4.000000           Av         655          GLQ   \n\n   BsmtUnfSF  GarageArea GarageFinish  GarageYrBlt  ...  LotFrontage  \\\n0        150         548          RFn       2003.0  ...         65.0   \n1        284         460          RFn       1976.0  ...         80.0   \n2        434         608          RFn       2001.0  ...         68.0   \n3        540         642          Unf       1998.0  ...         60.0   \n4        490         836          RFn       2000.0  ...         84.0   \n\n  MasVnrArea  OpenPorchSF  OverallCond  OverallQual  TotalBsmtSF  WoodDeckSF  \\\n0      196.0           61            5            7          856         0.0   \n1        0.0            0            8            6         1262         0.0   \n2      162.0           42            5            7          920         0.0   \n3        0.0           35            5            7          756         0.0   \n4      350.0           84            5            8         1145         0.0   \n\n   YearBuilt  YearRemodAdd  SalePrice  \n0       2003          2003     208500  \n1       1976          1976     181500  \n2       2001          2002     223500  \n3       1915          1970     140000  \n4       2000          2000     250000  \n\n[5 rows x 23 columns]",
      "text/html": "<div>\n<style scoped>\n    .dataframe tbody tr th:only-of-type {\n        vertical-align: middle;\n    }\n\n    .dataframe tbody tr th {\n        vertical-align: top;\n    }\n\n    .dataframe thead th {\n        text-align: right;\n    }\n</style>\n<table border=\"1\" class=\"dataframe\">\n  <thead>\n    <tr style=\"text-align: right;\">\n      <th></th>\n      <th>1stFlrSF</th>\n      <th>2ndFlrSF</th>\n      <th>BedroomAbvGr</th>\n      <th>BsmtExposure</th>\n      <th>BsmtFinSF1</th>\n      <th>BsmtFinType1</th>\n      <th>BsmtUnfSF</th>\n      <th>GarageArea</th>\n      <th>GarageFinish</th>\n      <th>GarageYrBlt</th>\n      <th>...</th>\n      <th>LotFrontage</th>\n      <th>MasVnrArea</th>\n      <th>OpenPorchSF</th>\n      <th>OverallCond</th>\n      <th>OverallQual</th>\n      <th>TotalBsmtSF</th>\n      <th>WoodDeckSF</th>\n      <th>YearBuilt</th>\n      <th>YearRemodAdd</th>\n      <th>SalePrice</th>\n    </tr>\n  </thead>\n  <tbody>\n    <tr>\n      <th>0</th>\n      <td>856</td>\n      <td>854.0</td>\n      <td>3.000000</td>\n      <td>No</td>\n      <td>706</td>\n      <td>GLQ</td>\n      <td>150</td>\n      <td>548</td>\n      <td>RFn</td>\n      <td>2003.0</td>\n      <td>...</td>\n      <td>65.0</td>\n      <td>196.0</td>\n      <td>61</td>\n      <td>5</td>\n      <td>7</td>\n      <td>856</td>\n      <td>0.0</td>\n      <td>2003</td>\n      <td>2003</td>\n      <td>208500</td>\n    </tr>\n    <tr>\n      <th>1</th>\n      <td>1262</td>\n      <td>0.0</td>\n      <td>3.000000</td>\n      <td>Gd</td>\n      <td>978</td>\n      <td>ALQ</td>\n      <td>284</td>\n      <td>460</td>\n      <td>RFn</td>\n      <td>1976.0</td>\n      <td>...</td>\n      <td>80.0</td>\n      <td>0.0</td>\n      <td>0</td>\n      <td>8</td>\n      <td>6</td>\n      <td>1262</td>\n      <td>0.0</td>\n      <td>1976</td>\n      <td>1976</td>\n      <td>181500</td>\n    </tr>\n    <tr>\n      <th>2</th>\n      <td>920</td>\n      <td>866.0</td>\n      <td>3.000000</td>\n      <td>Mn</td>\n      <td>486</td>\n      <td>GLQ</td>\n      <td>434</td>\n      <td>608</td>\n      <td>RFn</td>\n      <td>2001.0</td>\n      <td>...</td>\n      <td>68.0</td>\n      <td>162.0</td>\n      <td>42</td>\n      <td>5</td>\n      <td>7</td>\n      <td>920</td>\n      <td>0.0</td>\n      <td>2001</td>\n      <td>2002</td>\n      <td>223500</td>\n    </tr>\n    <tr>\n      <th>3</th>\n      <td>961</td>\n      <td>0.0</td>\n      <td>2.869214</td>\n      <td>No</td>\n      <td>216</td>\n      <td>ALQ</td>\n      <td>540</td>\n      <td>642</td>\n      <td>Unf</td>\n      <td>1998.0</td>\n      <td>...</td>\n      <td>60.0</td>\n      <td>0.0</td>\n      <td>35</td>\n      <td>5</td>\n      <td>7</td>\n      <td>756</td>\n      <td>0.0</td>\n      <td>1915</td>\n      <td>1970</td>\n      <td>140000</td>\n    </tr>\n    <tr>\n      <th>4</th>\n      <td>1145</td>\n      <td>0.0</td>\n      <td>4.000000</td>\n      <td>Av</td>\n      <td>655</td>\n      <td>GLQ</td>\n      <td>490</td>\n      <td>836</td>\n      <td>RFn</td>\n      <td>2000.0</td>\n      <td>...</td>\n      <td>84.0</td>\n      <td>350.0</td>\n      <td>84</td>\n      <td>5</td>\n      <td>8</td>\n      <td>1145</td>\n      <td>0.0</td>\n      <td>2000</td>\n      <td>2000</td>\n      <td>250000</td>\n    </tr>\n  </tbody>\n</table>\n<p>5 rows × 23 columns</p>\n</div>"
     },
     "metadata": {},
     "execution_count": 4
    }
   ],
   "source": [
    "import pandas as pd\n",
    "df = (pd.read_csv(\"outputs/datasets/cleaned/house_prices_records.csv\"))\n",
    "df.head(5)"
   ]
  },
  {
   "source": [
    "Split into train and test set and push to repo"
   ],
   "cell_type": "markdown",
   "metadata": {}
  },
  {
   "cell_type": "code",
   "execution_count": 5,
   "metadata": {
    "tags": []
   },
   "outputs": [
    {
     "output_type": "stream",
     "name": "stdout",
     "text": "[Errno 17] File exists: 'outputs/datasets/cleaned/split'\n"
    }
   ],
   "source": [
    "from sklearn.model_selection import train_test_split\n",
    "import os\n",
    "\n",
    "# Split the data into a training set and a test set\n",
    "train, test = train_test_split(df, test_size=0.2)\n",
    "\n",
    "try:\n",
    "  os.makedirs(name='outputs/datasets/cleaned/split') # create outputs/datasets/cleaned/split folder\n",
    "except Exception as e:\n",
    "  print(e)\n",
    "\n",
    "train.to_csv(f\"outputs/datasets/cleaned/split/house_prices_records_train.csv\", index=False)\n",
    "test.to_csv(f\"outputs/datasets/cleaned/split/house_prices_records_test.csv\", index=False)"
   ]
  }
 ],
 "metadata": {
  "kernelspec": {
   "name": "python381264bit3812pyenvd13c4ebd6c39476ab0bfdff9c0f172e7",
   "display_name": "Python 3.8.12 64-bit ('3.8.12': pyenv)"
  }
 },
 "nbformat": 4,
 "nbformat_minor": 5
}